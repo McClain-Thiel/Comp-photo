{
 "cells": [
  {
   "cell_type": "code",
   "execution_count": 1,
   "metadata": {},
   "outputs": [
    {
     "name": "stdout",
     "output_type": "stream",
     "text": [
      "Age and Gender Distribution.ipynb gender.py\r\n",
      "LICENSE                           mat.py\r\n",
      "README.md                         meta.csv\r\n",
      "age.py                            \u001b[34mwiki\u001b[m\u001b[m\r\n"
     ]
    }
   ],
   "source": [
    "import pandas as pd\n",
    "import os \n",
    "import numpy as np\n",
    "import matplotlib.pyplot as plt\n",
    "\n",
    "from imutils import face_utils\n",
    "import imutils\n",
    "import dlib\n",
    "import cv2\n",
    "\n",
    "!ls processed-imdb-wiki-dataset-master"
   ]
  },
  {
   "cell_type": "code",
   "execution_count": 2,
   "metadata": {},
   "outputs": [],
   "source": [
    "data = pd.read_csv('processed-imdb-wiki-dataset-master/meta.csv')"
   ]
  },
  {
   "cell_type": "code",
   "execution_count": 3,
   "metadata": {},
   "outputs": [],
   "source": [
    "def clean_path(path):\n",
    "    p = path.split('/')\n",
    "    return 'processed-imdb-wiki-dataset-master/' + 'wiki/' + p[1] + '/' + p[2]"
   ]
  },
  {
   "cell_type": "code",
   "execution_count": 4,
   "metadata": {},
   "outputs": [
    {
     "data": {
      "text/html": [
       "<div>\n",
       "<style scoped>\n",
       "    .dataframe tbody tr th:only-of-type {\n",
       "        vertical-align: middle;\n",
       "    }\n",
       "\n",
       "    .dataframe tbody tr th {\n",
       "        vertical-align: top;\n",
       "    }\n",
       "\n",
       "    .dataframe thead th {\n",
       "        text-align: right;\n",
       "    }\n",
       "</style>\n",
       "<table border=\"1\" class=\"dataframe\">\n",
       "  <thead>\n",
       "    <tr style=\"text-align: right;\">\n",
       "      <th></th>\n",
       "      <th>age</th>\n",
       "      <th>gender</th>\n",
       "      <th>path</th>\n",
       "    </tr>\n",
       "  </thead>\n",
       "  <tbody>\n",
       "    <tr>\n",
       "      <td>0</td>\n",
       "      <td>23</td>\n",
       "      <td>male</td>\n",
       "      <td>processed-imdb-wiki-dataset-master/wiki/77/244...</td>\n",
       "    </tr>\n",
       "    <tr>\n",
       "      <td>1</td>\n",
       "      <td>62</td>\n",
       "      <td>male</td>\n",
       "      <td>processed-imdb-wiki-dataset-master/wiki/90/256...</td>\n",
       "    </tr>\n",
       "    <tr>\n",
       "      <td>2</td>\n",
       "      <td>56</td>\n",
       "      <td>male</td>\n",
       "      <td>processed-imdb-wiki-dataset-master/wiki/74/132...</td>\n",
       "    </tr>\n",
       "    <tr>\n",
       "      <td>3</td>\n",
       "      <td>19</td>\n",
       "      <td>male</td>\n",
       "      <td>processed-imdb-wiki-dataset-master/wiki/53/320...</td>\n",
       "    </tr>\n",
       "    <tr>\n",
       "      <td>4</td>\n",
       "      <td>47</td>\n",
       "      <td>female</td>\n",
       "      <td>processed-imdb-wiki-dataset-master/wiki/72/406...</td>\n",
       "    </tr>\n",
       "  </tbody>\n",
       "</table>\n",
       "</div>"
      ],
      "text/plain": [
       "   age  gender                                               path\n",
       "0   23    male  processed-imdb-wiki-dataset-master/wiki/77/244...\n",
       "1   62    male  processed-imdb-wiki-dataset-master/wiki/90/256...\n",
       "2   56    male  processed-imdb-wiki-dataset-master/wiki/74/132...\n",
       "3   19    male  processed-imdb-wiki-dataset-master/wiki/53/320...\n",
       "4   47  female  processed-imdb-wiki-dataset-master/wiki/72/406..."
      ]
     },
     "execution_count": 4,
     "metadata": {},
     "output_type": "execute_result"
    }
   ],
   "source": [
    "data['path'] = data['path'].apply(clean_path)\n",
    "data.head()"
   ]
  },
  {
   "cell_type": "code",
   "execution_count": 5,
   "metadata": {},
   "outputs": [],
   "source": [
    "detector = dlib.get_frontal_face_detector()\n",
    "predictor = dlib.shape_predictor('landmarks.dat')\n"
   ]
  },
  {
   "cell_type": "code",
   "execution_count": 6,
   "metadata": {},
   "outputs": [],
   "source": [
    "def rect_to_bb(rect):\n",
    "    # take a bounding predicted by dlib and convert it\n",
    "    # to the format (x, y, w, h) as we would normally do\n",
    "    # with OpenCV\n",
    "    x = rect.left()\n",
    "    y = rect.top()\n",
    "    w = rect.right() - x\n",
    "    h = rect.bottom() - y\n",
    "    # return a tuple of (x, y, w, h)\n",
    "    return (x, y, w, h)\n",
    "\n",
    "def shape_to_np(shape, dtype=\"int\"):\n",
    "    # initialize the list of (x, y)-coordinates\n",
    "    coords = np.zeros((68, 2), dtype=dtype)\n",
    "    # loop over the 68 facial landmarks and convert them\n",
    "    # to a 2-tuple of (x, y)-coordinates\n",
    "    for i in range(0, 68):\n",
    "        coords[i] = (shape.part(i).x, shape.part(i).y)\n",
    "    # return the list of (x, y)-coordinates\n",
    "    return coords\n",
    "\n",
    "def convert_face(path):\n",
    "    img = plt.imread(path)\n",
    "    image = imutils.resize(img, width=500)\n",
    "    gray = cv2.cvtColor(image, cv2.COLOR_BGR2GRAY)\n",
    "    rects = detector(gray, 1)\n",
    "    if len(rects) > 0:\n",
    "        shape = predictor(gray, rects[0])\n",
    "        shape = face_utils.shape_to_np(shape)\n",
    "        normalized = shape - shape.mean(axis=0)\n",
    "        return normalized\n",
    "    else:\n",
    "        raise\n",
    "        return np.zeros((68, 2)).flatten()"
   ]
  },
  {
   "cell_type": "code",
   "execution_count": 7,
   "metadata": {},
   "outputs": [],
   "source": [
    "import tensorflow as tf\n",
    "from tensorflow import keras\n",
    "#gender classifyer\n",
    "model = keras.Sequential([\n",
    "    keras.layers.Flatten(input_shape=(68, 2)),\n",
    "    keras.layers.Dense(16, activation='relu'),\n",
    "    keras.layers.Dense(4)\n",
    "])\n",
    "    \n",
    "model.compile(optimizer='adam',\n",
    "              loss=tf.keras.losses.SparseCategoricalCrossentropy(from_logits=True),\n",
    "              metrics=['accuracy'])"
   ]
  },
  {
   "cell_type": "code",
   "execution_count": 8,
   "metadata": {},
   "outputs": [],
   "source": [
    "def get_data(index_range):\n",
    "    labels, points = [], []\n",
    "    for i in np.arange(index_range[0], index_range[1]):\n",
    "        gender = data.gender[i]\n",
    "        age = int(data.age[i])\n",
    "        try:\n",
    "            pts = convert_face(data.path[i])\n",
    "            if gender == 'male' and age > 13:\n",
    "                labels.append(0)\n",
    "            elif gender == 'female' and age > 13:\n",
    "                labels.append(1)\n",
    "            elif gender == 'male' and age <= 13:\n",
    "                labels.append(2)\n",
    "            else:\n",
    "                labels.append(3)\n",
    "            points.append(pts)\n",
    "        except:\n",
    "            pass\n",
    "    return np.array(labels), np.array(points)\n",
    "            "
   ]
  },
  {
   "cell_type": "code",
   "execution_count": 9,
   "metadata": {},
   "outputs": [
    {
     "name": "stderr",
     "output_type": "stream",
     "text": [
      "/opt/anaconda3/lib/python3.7/site-packages/PIL/TiffImagePlugin.py:784: UserWarning: Possibly corrupt EXIF data.  Expecting to read 206 bytes but only got 0. Skipping tag 0\n",
      "  \" Skipping tag %s\" % (size, len(data), tag)\n",
      "/opt/anaconda3/lib/python3.7/site-packages/PIL/TiffImagePlugin.py:784: UserWarning: Possibly corrupt EXIF data.  Expecting to read 724 bytes but only got 0. Skipping tag 0\n",
      "  \" Skipping tag %s\" % (size, len(data), tag)\n",
      "/opt/anaconda3/lib/python3.7/site-packages/PIL/TiffImagePlugin.py:784: UserWarning: Possibly corrupt EXIF data.  Expecting to read 65536 bytes but only got 0. Skipping tag 0\n",
      "  \" Skipping tag %s\" % (size, len(data), tag)\n",
      "/opt/anaconda3/lib/python3.7/site-packages/PIL/TiffImagePlugin.py:784: UserWarning: Possibly corrupt EXIF data.  Expecting to read 170 bytes but only got 0. Skipping tag 0\n",
      "  \" Skipping tag %s\" % (size, len(data), tag)\n",
      "/opt/anaconda3/lib/python3.7/site-packages/PIL/TiffImagePlugin.py:784: UserWarning: Possibly corrupt EXIF data.  Expecting to read 178 bytes but only got 0. Skipping tag 0\n",
      "  \" Skipping tag %s\" % (size, len(data), tag)\n",
      "/opt/anaconda3/lib/python3.7/site-packages/PIL/TiffImagePlugin.py:802: UserWarning: Corrupt EXIF data.  Expecting to read 12 bytes but only got 3. \n",
      "  warnings.warn(str(msg))\n"
     ]
    }
   ],
   "source": [
    "labels, points = get_data((0, 4000))\n",
    "#val_labels, val_points = get_data((3000, 3500))"
   ]
  },
  {
   "cell_type": "code",
   "execution_count": 10,
   "metadata": {},
   "outputs": [
    {
     "name": "stdout",
     "output_type": "stream",
     "text": [
      "Train on 2618 samples, validate on 463 samples\n",
      "Epoch 1/100\n",
      "2618/2618 [==============================] - 0s 177us/sample - loss: 8.8478 - accuracy: 0.6150 - val_loss: 2.9585 - val_accuracy: 0.6069\n",
      "Epoch 2/100\n",
      "2618/2618 [==============================] - 0s 51us/sample - loss: 2.0378 - accuracy: 0.6543 - val_loss: 1.8025 - val_accuracy: 0.6285\n",
      "Epoch 3/100\n",
      "2618/2618 [==============================] - 0s 50us/sample - loss: 1.4695 - accuracy: 0.6868 - val_loss: 1.4117 - val_accuracy: 0.6695\n",
      "Epoch 4/100\n",
      "2618/2618 [==============================] - 0s 55us/sample - loss: 1.2278 - accuracy: 0.7105 - val_loss: 1.2426 - val_accuracy: 0.6998\n",
      "Epoch 5/100\n",
      "2618/2618 [==============================] - 0s 48us/sample - loss: 1.0459 - accuracy: 0.7429 - val_loss: 1.4930 - val_accuracy: 0.6739\n",
      "Epoch 6/100\n",
      "2618/2618 [==============================] - 0s 50us/sample - loss: 0.9539 - accuracy: 0.7582 - val_loss: 0.9964 - val_accuracy: 0.7689\n",
      "Epoch 7/100\n",
      "2618/2618 [==============================] - 0s 52us/sample - loss: 0.8633 - accuracy: 0.7643 - val_loss: 1.4399 - val_accuracy: 0.7581\n",
      "Epoch 8/100\n",
      "2618/2618 [==============================] - 0s 53us/sample - loss: 0.9526 - accuracy: 0.7475 - val_loss: 0.8259 - val_accuracy: 0.7754\n",
      "Epoch 9/100\n",
      "2618/2618 [==============================] - 0s 53us/sample - loss: 0.7046 - accuracy: 0.7937 - val_loss: 0.8143 - val_accuracy: 0.7840\n",
      "Epoch 10/100\n",
      "2618/2618 [==============================] - 0s 64us/sample - loss: 0.7174 - accuracy: 0.7903 - val_loss: 0.9763 - val_accuracy: 0.7797\n",
      "Epoch 11/100\n",
      "2618/2618 [==============================] - 0s 53us/sample - loss: 0.6915 - accuracy: 0.7945 - val_loss: 1.0174 - val_accuracy: 0.7711\n",
      "Epoch 12/100\n",
      "2618/2618 [==============================] - 0s 53us/sample - loss: 0.7203 - accuracy: 0.7872 - val_loss: 0.7111 - val_accuracy: 0.8035\n",
      "Epoch 13/100\n",
      "2618/2618 [==============================] - 0s 52us/sample - loss: 0.6444 - accuracy: 0.8067 - val_loss: 0.6611 - val_accuracy: 0.7970\n",
      "Epoch 14/100\n",
      "2618/2618 [==============================] - 0s 53us/sample - loss: 0.5822 - accuracy: 0.8174 - val_loss: 0.7554 - val_accuracy: 0.7689\n",
      "Epoch 15/100\n",
      "2618/2618 [==============================] - 0s 53us/sample - loss: 0.6371 - accuracy: 0.7968 - val_loss: 0.6759 - val_accuracy: 0.8078\n",
      "Epoch 16/100\n",
      "2618/2618 [==============================] - 0s 63us/sample - loss: 0.6171 - accuracy: 0.8037 - val_loss: 0.7402 - val_accuracy: 0.8056\n",
      "Epoch 17/100\n",
      "2618/2618 [==============================] - 0s 55us/sample - loss: 0.5876 - accuracy: 0.8094 - val_loss: 0.6135 - val_accuracy: 0.8164\n",
      "Epoch 18/100\n",
      "2618/2618 [==============================] - 0s 58us/sample - loss: 0.5786 - accuracy: 0.8151 - val_loss: 0.6567 - val_accuracy: 0.8035\n",
      "Epoch 19/100\n",
      "2618/2618 [==============================] - 0s 75us/sample - loss: 0.6041 - accuracy: 0.8105 - val_loss: 0.7176 - val_accuracy: 0.7667\n",
      "Epoch 20/100\n",
      "2618/2618 [==============================] - 0s 74us/sample - loss: 0.6563 - accuracy: 0.7853 - val_loss: 0.7774 - val_accuracy: 0.8035\n",
      "Epoch 21/100\n",
      "2618/2618 [==============================] - 0s 81us/sample - loss: 0.5326 - accuracy: 0.8251 - val_loss: 0.6083 - val_accuracy: 0.8207\n",
      "Epoch 22/100\n",
      "2618/2618 [==============================] - 0s 130us/sample - loss: 0.6351 - accuracy: 0.7956 - val_loss: 0.6673 - val_accuracy: 0.7948\n",
      "Epoch 23/100\n",
      "2618/2618 [==============================] - 0s 112us/sample - loss: 0.5760 - accuracy: 0.8159 - val_loss: 1.0517 - val_accuracy: 0.7603\n",
      "Epoch 24/100\n",
      "2618/2618 [==============================] - 0s 109us/sample - loss: 0.6616 - accuracy: 0.7911 - val_loss: 0.6532 - val_accuracy: 0.8164\n",
      "Epoch 25/100\n",
      "2618/2618 [==============================] - 0s 110us/sample - loss: 0.5573 - accuracy: 0.8201 - val_loss: 0.6020 - val_accuracy: 0.8229\n",
      "Epoch 26/100\n",
      "2618/2618 [==============================] - 0s 72us/sample - loss: 0.5701 - accuracy: 0.8098 - val_loss: 0.6324 - val_accuracy: 0.7927\n",
      "Epoch 27/100\n",
      "2618/2618 [==============================] - 0s 82us/sample - loss: 0.5412 - accuracy: 0.8273 - val_loss: 1.1774 - val_accuracy: 0.6350\n",
      "Epoch 28/100\n",
      "2618/2618 [==============================] - 0s 61us/sample - loss: 0.5544 - accuracy: 0.8117 - val_loss: 1.0542 - val_accuracy: 0.7689\n",
      "Epoch 29/100\n",
      "2618/2618 [==============================] - 0s 46us/sample - loss: 0.5869 - accuracy: 0.8212 - val_loss: 0.5817 - val_accuracy: 0.8143\n",
      "Epoch 30/100\n",
      "2618/2618 [==============================] - 0s 53us/sample - loss: 0.5054 - accuracy: 0.8304 - val_loss: 0.7300 - val_accuracy: 0.8121\n",
      "Epoch 31/100\n",
      "2618/2618 [==============================] - 0s 84us/sample - loss: 0.5027 - accuracy: 0.8270 - val_loss: 0.5308 - val_accuracy: 0.8337\n",
      "Epoch 32/100\n",
      "2618/2618 [==============================] - 0s 49us/sample - loss: 0.5502 - accuracy: 0.8083 - val_loss: 0.5809 - val_accuracy: 0.8207\n",
      "Epoch 33/100\n",
      "2618/2618 [==============================] - 0s 46us/sample - loss: 0.4751 - accuracy: 0.8430 - val_loss: 0.5747 - val_accuracy: 0.8294\n",
      "Epoch 34/100\n",
      "2618/2618 [==============================] - 0s 68us/sample - loss: 0.4658 - accuracy: 0.8484 - val_loss: 0.5207 - val_accuracy: 0.8251\n",
      "Epoch 35/100\n",
      "2618/2618 [==============================] - 0s 73us/sample - loss: 0.4953 - accuracy: 0.8273 - val_loss: 0.5208 - val_accuracy: 0.8380\n",
      "Epoch 36/100\n",
      "2618/2618 [==============================] - 0s 48us/sample - loss: 0.4951 - accuracy: 0.8335 - val_loss: 0.7574 - val_accuracy: 0.7408\n",
      "Epoch 37/100\n",
      "2618/2618 [==============================] - 0s 58us/sample - loss: 0.5082 - accuracy: 0.8285 - val_loss: 0.5572 - val_accuracy: 0.8445\n",
      "Epoch 38/100\n",
      "2618/2618 [==============================] - 0s 46us/sample - loss: 0.4665 - accuracy: 0.8400 - val_loss: 0.4991 - val_accuracy: 0.8359\n",
      "Epoch 39/100\n",
      "2618/2618 [==============================] - 0s 49us/sample - loss: 0.4661 - accuracy: 0.8350 - val_loss: 0.8214 - val_accuracy: 0.7797\n",
      "Epoch 40/100\n",
      "2618/2618 [==============================] - 0s 81us/sample - loss: 0.4661 - accuracy: 0.8411 - val_loss: 0.4919 - val_accuracy: 0.8423\n",
      "Epoch 41/100\n",
      "2618/2618 [==============================] - 0s 62us/sample - loss: 0.4983 - accuracy: 0.8273 - val_loss: 0.5165 - val_accuracy: 0.8315\n",
      "Epoch 42/100\n",
      "2618/2618 [==============================] - 0s 54us/sample - loss: 0.4794 - accuracy: 0.8377 - val_loss: 0.5095 - val_accuracy: 0.8251\n",
      "Epoch 43/100\n",
      "2618/2618 [==============================] - 0s 89us/sample - loss: 0.5019 - accuracy: 0.8231 - val_loss: 0.5183 - val_accuracy: 0.8402\n",
      "Epoch 44/100\n",
      "2618/2618 [==============================] - 0s 74us/sample - loss: 0.5043 - accuracy: 0.8262 - val_loss: 0.4860 - val_accuracy: 0.8467\n",
      "Epoch 45/100\n",
      "2618/2618 [==============================] - 0s 75us/sample - loss: 0.4808 - accuracy: 0.8396 - val_loss: 0.5110 - val_accuracy: 0.8359\n",
      "Epoch 46/100\n",
      "2618/2618 [==============================] - 0s 81us/sample - loss: 0.4773 - accuracy: 0.8285 - val_loss: 0.6405 - val_accuracy: 0.7819\n",
      "Epoch 47/100\n",
      "2618/2618 [==============================] - 0s 79us/sample - loss: 0.4873 - accuracy: 0.8331 - val_loss: 0.7274 - val_accuracy: 0.7430\n",
      "Epoch 48/100\n",
      "2618/2618 [==============================] - 0s 71us/sample - loss: 0.4811 - accuracy: 0.8266 - val_loss: 1.9208 - val_accuracy: 0.4320\n",
      "Epoch 49/100\n",
      "2618/2618 [==============================] - 0s 61us/sample - loss: 0.5890 - accuracy: 0.8151 - val_loss: 0.4677 - val_accuracy: 0.8510\n",
      "Epoch 50/100\n",
      "2618/2618 [==============================] - 0s 44us/sample - loss: 0.4986 - accuracy: 0.8331 - val_loss: 0.4709 - val_accuracy: 0.8510\n",
      "Epoch 51/100\n",
      "2618/2618 [==============================] - 0s 44us/sample - loss: 0.4569 - accuracy: 0.8422 - val_loss: 0.5626 - val_accuracy: 0.8294\n",
      "Epoch 52/100\n",
      "2618/2618 [==============================] - 0s 44us/sample - loss: 0.4436 - accuracy: 0.8480 - val_loss: 0.4542 - val_accuracy: 0.8467\n",
      "Epoch 53/100\n",
      "2618/2618 [==============================] - 0s 49us/sample - loss: 0.4775 - accuracy: 0.8373 - val_loss: 0.4981 - val_accuracy: 0.8402\n",
      "Epoch 54/100\n",
      "2618/2618 [==============================] - 0s 110us/sample - loss: 0.4716 - accuracy: 0.8407 - val_loss: 0.4844 - val_accuracy: 0.8380\n",
      "Epoch 55/100\n",
      "2618/2618 [==============================] - 0s 61us/sample - loss: 0.4335 - accuracy: 0.8415 - val_loss: 0.4505 - val_accuracy: 0.8510\n"
     ]
    },
    {
     "name": "stdout",
     "output_type": "stream",
     "text": [
      "Epoch 56/100\n",
      "2618/2618 [==============================] - 0s 95us/sample - loss: 0.4357 - accuracy: 0.8422 - val_loss: 0.4422 - val_accuracy: 0.8488\n",
      "Epoch 57/100\n",
      "2618/2618 [==============================] - 0s 68us/sample - loss: 0.4726 - accuracy: 0.8400 - val_loss: 0.4680 - val_accuracy: 0.8315\n",
      "Epoch 58/100\n",
      "2618/2618 [==============================] - 0s 62us/sample - loss: 0.4594 - accuracy: 0.8361 - val_loss: 0.4367 - val_accuracy: 0.8553\n",
      "Epoch 59/100\n",
      "2618/2618 [==============================] - 0s 56us/sample - loss: 0.4343 - accuracy: 0.8533 - val_loss: 0.5282 - val_accuracy: 0.8229\n",
      "Epoch 60/100\n",
      "2618/2618 [==============================] - 0s 82us/sample - loss: 0.4407 - accuracy: 0.8464 - val_loss: 0.5506 - val_accuracy: 0.8164\n",
      "Epoch 61/100\n",
      "2618/2618 [==============================] - 0s 104us/sample - loss: 0.4423 - accuracy: 0.8396 - val_loss: 0.4639 - val_accuracy: 0.8423\n",
      "Epoch 62/100\n",
      "2618/2618 [==============================] - 0s 100us/sample - loss: 0.4458 - accuracy: 0.8350 - val_loss: 0.4485 - val_accuracy: 0.8488\n",
      "Epoch 63/100\n",
      "2618/2618 [==============================] - 0s 71us/sample - loss: 0.4712 - accuracy: 0.8369 - val_loss: 0.8336 - val_accuracy: 0.7603\n",
      "Epoch 64/100\n",
      "2618/2618 [==============================] - 0s 76us/sample - loss: 0.4508 - accuracy: 0.8461 - val_loss: 0.4398 - val_accuracy: 0.8467\n",
      "Epoch 65/100\n",
      "2618/2618 [==============================] - 0s 70us/sample - loss: 0.4641 - accuracy: 0.8289 - val_loss: 0.5474 - val_accuracy: 0.8186\n",
      "Epoch 66/100\n",
      "2618/2618 [==============================] - 0s 59us/sample - loss: 0.4612 - accuracy: 0.8277 - val_loss: 0.4407 - val_accuracy: 0.8618\n",
      "Epoch 67/100\n",
      "2618/2618 [==============================] - 0s 68us/sample - loss: 0.4269 - accuracy: 0.8419 - val_loss: 0.4380 - val_accuracy: 0.8553\n",
      "Epoch 68/100\n",
      "2618/2618 [==============================] - 0s 123us/sample - loss: 0.4192 - accuracy: 0.8571 - val_loss: 0.4293 - val_accuracy: 0.8553\n",
      "Epoch 69/100\n",
      "2618/2618 [==============================] - 0s 62us/sample - loss: 0.4748 - accuracy: 0.8369 - val_loss: 0.4343 - val_accuracy: 0.8467\n",
      "Epoch 70/100\n",
      "2618/2618 [==============================] - 0s 65us/sample - loss: 0.4580 - accuracy: 0.8304 - val_loss: 0.4728 - val_accuracy: 0.8596\n",
      "Epoch 71/100\n",
      "2618/2618 [==============================] - 0s 87us/sample - loss: 0.4170 - accuracy: 0.8541 - val_loss: 0.4366 - val_accuracy: 0.8510\n",
      "Epoch 72/100\n",
      "2618/2618 [==============================] - 0s 59us/sample - loss: 0.4588 - accuracy: 0.8442 - val_loss: 0.4237 - val_accuracy: 0.8531\n",
      "Epoch 73/100\n",
      "2618/2618 [==============================] - 0s 58us/sample - loss: 0.4591 - accuracy: 0.8377 - val_loss: 0.4762 - val_accuracy: 0.8402\n",
      "Epoch 74/100\n",
      "2618/2618 [==============================] - 0s 59us/sample - loss: 0.4449 - accuracy: 0.8373 - val_loss: 0.4316 - val_accuracy: 0.8510\n",
      "Epoch 75/100\n",
      "2618/2618 [==============================] - 0s 60us/sample - loss: 0.4347 - accuracy: 0.8438 - val_loss: 0.5775 - val_accuracy: 0.8013\n",
      "Epoch 76/100\n",
      "2618/2618 [==============================] - 0s 60us/sample - loss: 0.4358 - accuracy: 0.8422 - val_loss: 0.4214 - val_accuracy: 0.8618\n",
      "Epoch 77/100\n",
      "2618/2618 [==============================] - 0s 61us/sample - loss: 0.4784 - accuracy: 0.8216 - val_loss: 0.4310 - val_accuracy: 0.8510\n",
      "Epoch 78/100\n",
      "2618/2618 [==============================] - 0s 82us/sample - loss: 0.4587 - accuracy: 0.8266 - val_loss: 0.4403 - val_accuracy: 0.8488\n",
      "Epoch 79/100\n",
      "2618/2618 [==============================] - 0s 83us/sample - loss: 0.4895 - accuracy: 0.8254 - val_loss: 0.6705 - val_accuracy: 0.7775\n",
      "Epoch 80/100\n",
      "2618/2618 [==============================] - 0s 65us/sample - loss: 0.4512 - accuracy: 0.8312 - val_loss: 0.4292 - val_accuracy: 0.8575\n",
      "Epoch 81/100\n",
      "2618/2618 [==============================] - 0s 75us/sample - loss: 0.4724 - accuracy: 0.8350 - val_loss: 0.5484 - val_accuracy: 0.8121\n",
      "Epoch 82/100\n",
      "2618/2618 [==============================] - 0s 87us/sample - loss: 0.4206 - accuracy: 0.8487 - val_loss: 0.4547 - val_accuracy: 0.8423\n",
      "Epoch 83/100\n",
      "2618/2618 [==============================] - 0s 110us/sample - loss: 0.4096 - accuracy: 0.8510 - val_loss: 0.4415 - val_accuracy: 0.8553\n",
      "Epoch 84/100\n",
      "2618/2618 [==============================] - 0s 81us/sample - loss: 0.4668 - accuracy: 0.8285 - val_loss: 0.4335 - val_accuracy: 0.8315\n",
      "Epoch 85/100\n",
      "2618/2618 [==============================] - 0s 128us/sample - loss: 0.4274 - accuracy: 0.8430 - val_loss: 0.4766 - val_accuracy: 0.8337\n",
      "Epoch 86/100\n",
      "2618/2618 [==============================] - 0s 112us/sample - loss: 0.4038 - accuracy: 0.8514 - val_loss: 0.4738 - val_accuracy: 0.8337\n",
      "Epoch 87/100\n",
      "2618/2618 [==============================] - 0s 93us/sample - loss: 0.4417 - accuracy: 0.8384 - val_loss: 0.4688 - val_accuracy: 0.8380\n",
      "Epoch 88/100\n",
      "2618/2618 [==============================] - 0s 87us/sample - loss: 0.4200 - accuracy: 0.8472 - val_loss: 0.4028 - val_accuracy: 0.8445\n",
      "Epoch 89/100\n",
      "2618/2618 [==============================] - 0s 85us/sample - loss: 0.4528 - accuracy: 0.8304 - val_loss: 0.4015 - val_accuracy: 0.8488\n",
      "Epoch 90/100\n",
      "2618/2618 [==============================] - 0s 64us/sample - loss: 0.3975 - accuracy: 0.8610 - val_loss: 0.4092 - val_accuracy: 0.8596\n",
      "Epoch 91/100\n",
      "2618/2618 [==============================] - 0s 66us/sample - loss: 0.4000 - accuracy: 0.8564 - val_loss: 0.5834 - val_accuracy: 0.7883\n",
      "Epoch 92/100\n",
      "2618/2618 [==============================] - 0s 80us/sample - loss: 0.4465 - accuracy: 0.8392 - val_loss: 0.4398 - val_accuracy: 0.8488\n",
      "Epoch 93/100\n",
      "2618/2618 [==============================] - 0s 70us/sample - loss: 0.4045 - accuracy: 0.8526 - val_loss: 0.4193 - val_accuracy: 0.8575\n",
      "Epoch 94/100\n",
      "2618/2618 [==============================] - 0s 66us/sample - loss: 0.4324 - accuracy: 0.8403 - val_loss: 0.4220 - val_accuracy: 0.8445\n",
      "Epoch 95/100\n",
      "2618/2618 [==============================] - 0s 60us/sample - loss: 0.4357 - accuracy: 0.8377 - val_loss: 0.4452 - val_accuracy: 0.8488\n",
      "Epoch 96/100\n",
      "2618/2618 [==============================] - 0s 61us/sample - loss: 0.4250 - accuracy: 0.8453 - val_loss: 0.4851 - val_accuracy: 0.8294\n",
      "Epoch 97/100\n",
      "2618/2618 [==============================] - 0s 59us/sample - loss: 0.3960 - accuracy: 0.8575 - val_loss: 0.4109 - val_accuracy: 0.8553\n",
      "Epoch 98/100\n",
      "2618/2618 [==============================] - 0s 88us/sample - loss: 0.3973 - accuracy: 0.8518 - val_loss: 0.4044 - val_accuracy: 0.8467\n",
      "Epoch 99/100\n",
      "2618/2618 [==============================] - 0s 127us/sample - loss: 0.3953 - accuracy: 0.8506 - val_loss: 0.4051 - val_accuracy: 0.8553\n",
      "Epoch 100/100\n",
      "2618/2618 [==============================] - 0s 84us/sample - loss: 0.4130 - accuracy: 0.8560 - val_loss: 0.3993 - val_accuracy: 0.8488\n"
     ]
    }
   ],
   "source": [
    "history = model.fit(points, labels, validation_split=.15, epochs=100)"
   ]
  },
  {
   "cell_type": "code",
   "execution_count": 12,
   "metadata": {},
   "outputs": [
    {
     "data": {
      "text/plain": [
       "Text(0.5, 1.0, 'Training vs Val Accuracy')"
      ]
     },
     "execution_count": 12,
     "metadata": {},
     "output_type": "execute_result"
    },
    {
     "data": {
      "image/png": "[encoded data removed]",
      "text/plain": [
       "<Figure size 432x288 with 1 Axes>"
      ]
     },
     "metadata": {
      "needs_background": "light"
     },
     "output_type": "display_data"
    }
   ],
   "source": [
    "acc = history.history['accuracy']\n",
    "val_acc = history.history['val_accuracy']\n",
    "x = np.arange(len(acc))\n",
    "plt.plot(x, acc)\n",
    "plt.plot(x,val_acc)\n",
    "plt.xlabel('Epoch')\n",
    "plt.ylabel('Accuracy')\n",
    "plt.title('Training vs Val Accuracy');"
   ]
  },
  {
   "cell_type": "code",
   "execution_count": 13,
   "metadata": {},
   "outputs": [],
   "source": [
    "converter = tf.lite.TFLiteConverter.from_keras_model(model)\n",
    "tflite_model = converter.convert()"
   ]
  },
  {
   "cell_type": "code",
   "execution_count": 14,
   "metadata": {},
   "outputs": [
    {
     "data": {
      "text/plain": [
       "10120"
      ]
     },
     "execution_count": 14,
     "metadata": {},
     "output_type": "execute_result"
    }
   ],
   "source": [
    "open(\"gender_model.tflite\", \"wb\").write(tflite_model)"
   ]
  },
  {
   "cell_type": "code",
   "execution_count": 21,
   "metadata": {},
   "outputs": [
    {
     "name": "stdout",
     "output_type": "stream",
     "text": [
      "0.09333333333333342 0.04999999999999982 0.2599999999999998 0.5033333333333333\n"
     ]
    }
   ],
   "source": [
    "ft_2 = np.mean([np.abs(i - 2) for i in [2.10, 2.08, 2.1]])\n",
    "ft_5 = np.mean([np.abs(i - 5) for i in [4.94, 5.05, 5.04]])\n",
    "ft_10 = np.mean([np.abs(i - 10) for i in [9.64, 9.88, 10.3]])\n",
    "ft_15 = np.mean([np.abs(i - 15) for i in [14.49, 15.48, 15.52]])\n",
    "print(ft_2, ft_5, ft_10, ft_15)"
   ]
  },
  {
   "cell_type": "code",
   "execution_count": 27,
   "metadata": {},
   "outputs": [],
   "source": [
    "def mean_err(actual, guess_arr):\n",
    "    mult = 100 / len(guess_arr)\n",
    "    num = np.sum([(actual - i)/actual for i in guess_arr])\n",
    "    return mult*num\n",
    "\n",
    "data = [[2.10, 2.08, 2.1],\n",
    "       [4.94, 5.05, 5.04],\n",
    "       [9.64, 9.88, 10.3],\n",
    "       [14.49, 15.48, 15.52]]\n",
    "\n",
    "act = [2,5,10,15]"
   ]
  },
  {
   "cell_type": "code",
   "execution_count": 31,
   "metadata": {},
   "outputs": [
    {
     "name": "stdout",
     "output_type": "stream",
     "text": [
      "[-4.67, -0.2, 0.6, -1.09]\n"
     ]
    }
   ],
   "source": [
    "errs = [round(mean_err(x,y), 2) for x,y in zip(act, data)]\n",
    "print(errs)"
   ]
  },
  {
   "cell_type": "code",
   "execution_count": null,
   "metadata": {},
   "outputs": [],
   "source": []
  }
 ],
 "metadata": {
  "kernelspec": {
   "display_name": "Python 3",
   "language": "python",
   "name": "python3"
  },
  "language_info": {
   "codemirror_mode": {
    "name": "ipython",
    "version": 3
   },
   "file_extension": ".py",
   "mimetype": "text/x-python",
   "name": "python",
   "nbconvert_exporter": "python",
   "pygments_lexer": "ipython3",
   "version": "3.7.4"
  },
  "latex_envs": {
   "LaTeX_envs_menu_present": true,
   "autoclose": false,
   "autocomplete": true,
   "bibliofile": "biblio.bib",
   "cite_by": "apalike",
   "current_citInitial": 1,
   "eqLabelWithNumbers": true,
   "eqNumInitial": 1,
   "hotkeys": {
    "equation": "Ctrl-E",
    "itemize": "Ctrl-I"
   },
   "labels_anchors": false,
   "latex_user_defs": false,
   "report_style_numbering": false,
   "user_envs_cfg": false
  }
 },
 "nbformat": 4,
 "nbformat_minor": 2
}
