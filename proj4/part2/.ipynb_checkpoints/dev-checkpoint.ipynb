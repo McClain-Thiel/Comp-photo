{
 "cells": [
  {
   "cell_type": "code",
   "execution_count": 1,
   "metadata": {},
   "outputs": [],
   "source": [
    "import os\n",
    "import time\n",
    "\n",
    "import cv2\n",
    "import matplotlib.pyplot as plt\n",
    "import numpy as np\n",
    "import png\n",
    "import torch\n",
    "import torch.nn as nn\n",
    "import torch.optim as optim\n",
    "import torchvision\n",
    "from colormap.colors import Color, hex2rgb\n",
    "from sklearn.metrics import average_precision_score as ap_score\n",
    "from torch.utils.data import DataLoader\n",
    "from torchvision import datasets, models, transforms\n",
    "from tqdm import tqdm\n",
    "import torch.nn.functional as F\n",
    "\n",
    "from dataset import FacadeDataset\n",
    "\n",
    "from train import Net\n",
    "from train import train, test, get_result\n"
   ]
  },
  {
   "cell_type": "code",
   "execution_count": 2,
   "metadata": {},
   "outputs": [
    {
     "name": "stdout",
     "output_type": "stream",
     "text": [
      "load train dataset start\n",
      "    from: ./starter_set/\n",
      "    range: [0, 800)\n",
      "load dataset done\n",
      "load train dataset start\n",
      "    from: ./starter_set/\n",
      "    range: [800, 906)\n",
      "load dataset done\n",
      "load test_dev dataset start\n",
      "    from: ./starter_set/\n",
      "    range: [0, 114)\n",
      "load dataset done\n"
     ]
    }
   ],
   "source": [
    "device = torch.device(\"cuda:0\" if torch.cuda.is_available() else \"cpu\")\n",
    "# TODO change data_range to include all train/evaluation/test data.\n",
    "# TODO adjust batch_size.\n",
    "train_data = FacadeDataset(flag='train', data_range=(0,800), onehot=False)\n",
    "train_loader = DataLoader(train_data, batch_size=10)\n",
    "val_data = FacadeDataset(flag='train', data_range=(800,906), onehot=False)\n",
    "val_loader = DataLoader(val_data, batch_size=10)\n",
    "test_data = FacadeDataset(flag='test_dev', data_range=(0,114), onehot=False)\n",
    "test_loader = DataLoader(test_data, batch_size=5)"
   ]
  },
  {
   "cell_type": "code",
   "execution_count": 7,
   "metadata": {},
   "outputs": [],
   "source": [
    "N_CLASS=5\n",
    "#torch.nn.ConvTranspose2d\n",
    "\n",
    "class Net(nn.Module):\n",
    "    def __init__(self):\n",
    "        super(Net, self).__init__()\n",
    "        self.n_class = N_CLASS\n",
    "        self.layers = nn.Sequential(\n",
    "            #########################################\n",
    "            ###        TODO: Add more layers      ###\n",
    "            #########################################\n",
    "            nn.Conv2d(3, self.n_class, 1, padding=0),\n",
    "            nn.ReLU(inplace=True)\n",
    "        )\n",
    "        self.encoder = nn.Sequential(\n",
    "        \t# conv layer 1\n",
    "        \tnn.Conv2d(3, 64, 3, padding=1),\n",
    "        \tnn.ReLU(inplace=True),\n",
    "        \tnn.Conv2d(64, 64, 3, padding=1),\n",
    "        \tnn.ReLU(inplace=True),\n",
    "        \tnn.MaxPool2d(2, stride=2, ceil_mode=True),\n",
    "        \t# conv layer 2\n",
    "        \tnn.Conv2d(64, 128, 3, padding=1),\n",
    "        \tnn.ReLU(inplace=True),\n",
    "        \tnn.Conv2d(128, 128, 3, padding=1),\n",
    "        \tnn.ReLU(inplace=True),\n",
    "        \tnn.MaxPool2d(2, stride=2, ceil_mode=True)\n",
    "        \t)\n",
    "        self.decoder = nn.Sequential(\n",
    "        \tnn.Conv2d(128, 256, 5),\n",
    "            nn.ReLU(inplace=True),\n",
    "            nn.Dropout2d(),\n",
    "            nn.Conv2d(256, 256, 1),\n",
    "            nn.ReLU(inplace=True),\n",
    "            nn.Dropout2d(),\n",
    "            nn.Conv2d(256, self.n_class, 1)\n",
    "        \t)\n",
    "\n",
    "\n",
    "    def forward(self, x):\n",
    "        temp = self.encoder(x)\n",
    "        output = self.decoder(temp)\n",
    "        output = F.interpolate(output, (256,256), mode='bicubic')\n",
    "        return output"
   ]
  },
  {
   "cell_type": "code",
   "execution_count": 10,
   "metadata": {},
   "outputs": [],
   "source": [
    "def cross_entropy2d(input, target, weight=None, size_average=True):\n",
    "    # input: (n, c, h, w), target: (n, h, w) or might be (n, c, h, w) but c1 != c2 idk\n",
    "    n, c, h, w = input.size()\n",
    "    # log_p: (n, c, h, w)\n",
    "    log_p = F.log_softmax(input, dim=1)\n",
    "    # log_p: (n*h*w, c)\n",
    "    log_p = log_p.transpose(1, 2).transpose(2, 3).contiguous()\n",
    "    log_p = log_p[target.view(n, h, w, 1).repeat(1, 1, 1, c) >= 0]\n",
    "    log_p = log_p.view(-1, c)\n",
    "    # target: (n*h*w,)\n",
    "    mask = target >= 0\n",
    "    target = target[mask]\n",
    "    loss = F.nll_loss(log_p, target, weight=weight, reduction='sum')\n",
    "    if size_average:\n",
    "        loss /= mask.data.sum()\n",
    "    return loss\n",
    "\n",
    "name = 'starter_net'\n",
    "net = Net().to(device)\n",
    "criterion = cross_entropy2d #nn.CrossEntropyLoss() #TODO decide loss\n",
    "optimizer = torch.optim.Adam(net.parameters(), 1e-3, weight_decay=1e-5)\n"
   ]
  },
  {
   "cell_type": "code",
   "execution_count": null,
   "metadata": {},
   "outputs": [
    {
     "name": "stderr",
     "output_type": "stream",
     "text": [
      "\r",
      "  0%|          | 0/80 [00:00<?, ?it/s]"
     ]
    },
    {
     "name": "stdout",
     "output_type": "stream",
     "text": [
      "torch.Size([10, 3, 256, 256])\n",
      "torch.Size([10, 128, 64, 64])\n",
      "torch.Size([10, 5, 60, 60])\n",
      "torch.Size([10, 5, 256, 256])\n"
     ]
    },
    {
     "name": "stderr",
     "output_type": "stream",
     "text": [
      "\r",
      "  1%|▏         | 1/80 [00:10<14:04, 10.69s/it]"
     ]
    },
    {
     "name": "stdout",
     "output_type": "stream",
     "text": [
      "torch.Size([10, 3, 256, 256])\n",
      "torch.Size([10, 128, 64, 64])\n",
      "torch.Size([10, 5, 60, 60])\n",
      "torch.Size([10, 5, 256, 256])\n"
     ]
    },
    {
     "name": "stderr",
     "output_type": "stream",
     "text": [
      "\r",
      "  2%|▎         | 2/80 [00:23<14:37, 11.24s/it]"
     ]
    },
    {
     "name": "stdout",
     "output_type": "stream",
     "text": [
      "torch.Size([10, 3, 256, 256])\n",
      "torch.Size([10, 128, 64, 64])\n",
      "torch.Size([10, 5, 60, 60])\n",
      "torch.Size([10, 5, 256, 256])\n"
     ]
    },
    {
     "name": "stderr",
     "output_type": "stream",
     "text": [
      "\r",
      "  4%|▍         | 3/80 [00:36<15:04, 11.75s/it]"
     ]
    },
    {
     "name": "stdout",
     "output_type": "stream",
     "text": [
      "torch.Size([10, 3, 256, 256])\n",
      "torch.Size([10, 128, 64, 64])\n",
      "torch.Size([10, 5, 60, 60])\n",
      "torch.Size([10, 5, 256, 256])\n"
     ]
    },
    {
     "name": "stderr",
     "output_type": "stream",
     "text": [
      "\r",
      "  5%|▌         | 4/80 [00:48<14:59, 11.84s/it]"
     ]
    },
    {
     "name": "stdout",
     "output_type": "stream",
     "text": [
      "torch.Size([10, 3, 256, 256])\n",
      "torch.Size([10, 128, 64, 64])\n",
      "torch.Size([10, 5, 60, 60])\n",
      "torch.Size([10, 5, 256, 256])\n"
     ]
    },
    {
     "name": "stderr",
     "output_type": "stream",
     "text": [
      "\r",
      "  6%|▋         | 5/80 [01:01<15:11, 12.15s/it]"
     ]
    },
    {
     "name": "stdout",
     "output_type": "stream",
     "text": [
      "torch.Size([10, 3, 256, 256])\n",
      "torch.Size([10, 128, 64, 64])\n",
      "torch.Size([10, 5, 60, 60])\n",
      "torch.Size([10, 5, 256, 256])\n"
     ]
    },
    {
     "name": "stderr",
     "output_type": "stream",
     "text": [
      "\r",
      "  8%|▊         | 6/80 [01:14<15:23, 12.47s/it]"
     ]
    },
    {
     "name": "stdout",
     "output_type": "stream",
     "text": [
      "torch.Size([10, 3, 256, 256])\n",
      "torch.Size([10, 128, 64, 64])\n",
      "torch.Size([10, 5, 60, 60])\n",
      "torch.Size([10, 5, 256, 256])\n"
     ]
    },
    {
     "name": "stderr",
     "output_type": "stream",
     "text": [
      "\r",
      "  9%|▉         | 7/80 [01:27<15:36, 12.83s/it]"
     ]
    },
    {
     "name": "stdout",
     "output_type": "stream",
     "text": [
      "torch.Size([10, 3, 256, 256])\n",
      "torch.Size([10, 128, 64, 64])\n",
      "torch.Size([10, 5, 60, 60])\n",
      "torch.Size([10, 5, 256, 256])\n"
     ]
    },
    {
     "name": "stderr",
     "output_type": "stream",
     "text": [
      "\r",
      " 10%|█         | 8/80 [01:42<16:10, 13.49s/it]"
     ]
    },
    {
     "name": "stdout",
     "output_type": "stream",
     "text": [
      "torch.Size([10, 3, 256, 256])\n",
      "torch.Size([10, 128, 64, 64])\n",
      "torch.Size([10, 5, 60, 60])\n",
      "torch.Size([10, 5, 256, 256])\n"
     ]
    },
    {
     "name": "stderr",
     "output_type": "stream",
     "text": [
      "\r",
      " 11%|█▏        | 9/80 [01:58<16:42, 14.12s/it]"
     ]
    },
    {
     "name": "stdout",
     "output_type": "stream",
     "text": [
      "torch.Size([10, 3, 256, 256])\n",
      "torch.Size([10, 128, 64, 64])\n",
      "torch.Size([10, 5, 60, 60])\n",
      "torch.Size([10, 5, 256, 256])\n"
     ]
    },
    {
     "name": "stderr",
     "output_type": "stream",
     "text": [
      "\r",
      " 12%|█▎        | 10/80 [02:36<24:45, 21.22s/it]"
     ]
    },
    {
     "name": "stdout",
     "output_type": "stream",
     "text": [
      "torch.Size([10, 3, 256, 256])\n",
      "torch.Size([10, 128, 64, 64])\n",
      "torch.Size([10, 5, 60, 60])\n",
      "torch.Size([10, 5, 256, 256])\n"
     ]
    },
    {
     "name": "stderr",
     "output_type": "stream",
     "text": [
      "\r",
      " 14%|█▍        | 11/80 [02:56<24:08, 20.99s/it]"
     ]
    },
    {
     "name": "stdout",
     "output_type": "stream",
     "text": [
      "torch.Size([10, 3, 256, 256])\n",
      "torch.Size([10, 128, 64, 64])\n",
      "torch.Size([10, 5, 60, 60])\n",
      "torch.Size([10, 5, 256, 256])\n"
     ]
    },
    {
     "name": "stderr",
     "output_type": "stream",
     "text": [
      "\r",
      " 15%|█▌        | 12/80 [03:10<21:24, 18.89s/it]"
     ]
    },
    {
     "name": "stdout",
     "output_type": "stream",
     "text": [
      "torch.Size([10, 3, 256, 256])\n",
      "torch.Size([10, 128, 64, 64])\n",
      "torch.Size([10, 5, 60, 60])\n",
      "torch.Size([10, 5, 256, 256])\n"
     ]
    },
    {
     "name": "stderr",
     "output_type": "stream",
     "text": [
      "\r",
      " 16%|█▋        | 13/80 [03:28<20:33, 18.42s/it]"
     ]
    },
    {
     "name": "stdout",
     "output_type": "stream",
     "text": [
      "torch.Size([10, 3, 256, 256])\n",
      "torch.Size([10, 128, 64, 64])\n",
      "torch.Size([10, 5, 60, 60])\n",
      "torch.Size([10, 5, 256, 256])\n"
     ]
    },
    {
     "name": "stderr",
     "output_type": "stream",
     "text": [
      "\r",
      " 18%|█▊        | 14/80 [03:44<19:38, 17.85s/it]"
     ]
    },
    {
     "name": "stdout",
     "output_type": "stream",
     "text": [
      "torch.Size([10, 3, 256, 256])\n",
      "torch.Size([10, 128, 64, 64])\n",
      "torch.Size([10, 5, 60, 60])\n",
      "torch.Size([10, 5, 256, 256])\n"
     ]
    },
    {
     "name": "stderr",
     "output_type": "stream",
     "text": [
      "\r",
      " 19%|█▉        | 15/80 [04:11<22:11, 20.49s/it]"
     ]
    },
    {
     "name": "stdout",
     "output_type": "stream",
     "text": [
      "torch.Size([10, 3, 256, 256])\n",
      "torch.Size([10, 128, 64, 64])\n",
      "torch.Size([10, 5, 60, 60])\n",
      "torch.Size([10, 5, 256, 256])\n"
     ]
    },
    {
     "name": "stderr",
     "output_type": "stream",
     "text": [
      "\r",
      " 20%|██        | 16/80 [04:45<26:18, 24.66s/it]"
     ]
    },
    {
     "name": "stdout",
     "output_type": "stream",
     "text": [
      "torch.Size([10, 3, 256, 256])\n",
      "torch.Size([10, 128, 64, 64])\n",
      "torch.Size([10, 5, 60, 60])\n",
      "torch.Size([10, 5, 256, 256])\n"
     ]
    },
    {
     "name": "stderr",
     "output_type": "stream",
     "text": [
      "\r",
      " 21%|██▏       | 17/80 [05:10<25:55, 24.69s/it]"
     ]
    },
    {
     "name": "stdout",
     "output_type": "stream",
     "text": [
      "torch.Size([10, 3, 256, 256])\n",
      "torch.Size([10, 128, 64, 64])\n",
      "torch.Size([10, 5, 60, 60])\n",
      "torch.Size([10, 5, 256, 256])\n"
     ]
    },
    {
     "name": "stderr",
     "output_type": "stream",
     "text": [
      "\r",
      " 22%|██▎       | 18/80 [05:24<22:08, 21.43s/it]"
     ]
    },
    {
     "name": "stdout",
     "output_type": "stream",
     "text": [
      "torch.Size([10, 3, 256, 256])\n",
      "torch.Size([10, 128, 64, 64])\n",
      "torch.Size([10, 5, 60, 60])\n",
      "torch.Size([10, 5, 256, 256])\n"
     ]
    },
    {
     "name": "stderr",
     "output_type": "stream",
     "text": [
      "\r",
      " 24%|██▍       | 19/80 [05:36<18:58, 18.66s/it]"
     ]
    },
    {
     "name": "stdout",
     "output_type": "stream",
     "text": [
      "torch.Size([10, 3, 256, 256])\n",
      "torch.Size([10, 128, 64, 64])\n",
      "torch.Size([10, 5, 60, 60])\n",
      "torch.Size([10, 5, 256, 256])\n"
     ]
    },
    {
     "name": "stderr",
     "output_type": "stream",
     "text": [
      "\r",
      " 25%|██▌       | 20/80 [05:48<16:45, 16.75s/it]"
     ]
    },
    {
     "name": "stdout",
     "output_type": "stream",
     "text": [
      "torch.Size([10, 3, 256, 256])\n",
      "torch.Size([10, 128, 64, 64])\n",
      "torch.Size([10, 5, 60, 60])\n",
      "torch.Size([10, 5, 256, 256])\n"
     ]
    },
    {
     "name": "stderr",
     "output_type": "stream",
     "text": [
      "\r",
      " 26%|██▋       | 21/80 [06:01<15:10, 15.42s/it]"
     ]
    },
    {
     "name": "stdout",
     "output_type": "stream",
     "text": [
      "torch.Size([10, 3, 256, 256])\n",
      "torch.Size([10, 128, 64, 64])\n",
      "torch.Size([10, 5, 60, 60])\n",
      "torch.Size([10, 5, 256, 256])\n"
     ]
    },
    {
     "name": "stderr",
     "output_type": "stream",
     "text": [
      "\r",
      " 28%|██▊       | 22/80 [06:13<14:07, 14.62s/it]"
     ]
    },
    {
     "name": "stdout",
     "output_type": "stream",
     "text": [
      "torch.Size([10, 3, 256, 256])\n",
      "torch.Size([10, 128, 64, 64])\n",
      "torch.Size([10, 5, 60, 60])\n",
      "torch.Size([10, 5, 256, 256])\n"
     ]
    },
    {
     "name": "stderr",
     "output_type": "stream",
     "text": [
      "\r",
      " 29%|██▉       | 23/80 [06:26<13:17, 13.99s/it]"
     ]
    },
    {
     "name": "stdout",
     "output_type": "stream",
     "text": [
      "torch.Size([10, 3, 256, 256])\n",
      "torch.Size([10, 128, 64, 64])\n",
      "torch.Size([10, 5, 60, 60])\n",
      "torch.Size([10, 5, 256, 256])\n"
     ]
    },
    {
     "name": "stderr",
     "output_type": "stream",
     "text": [
      "\r",
      " 30%|███       | 24/80 [06:37<12:15, 13.14s/it]"
     ]
    },
    {
     "name": "stdout",
     "output_type": "stream",
     "text": [
      "torch.Size([10, 3, 256, 256])\n",
      "torch.Size([10, 128, 64, 64])\n",
      "torch.Size([10, 5, 60, 60])\n",
      "torch.Size([10, 5, 256, 256])\n"
     ]
    },
    {
     "name": "stderr",
     "output_type": "stream",
     "text": [
      "\r",
      " 31%|███▏      | 25/80 [06:48<11:22, 12.41s/it]"
     ]
    },
    {
     "name": "stdout",
     "output_type": "stream",
     "text": [
      "torch.Size([10, 3, 256, 256])\n",
      "torch.Size([10, 128, 64, 64])\n",
      "torch.Size([10, 5, 60, 60])\n",
      "torch.Size([10, 5, 256, 256])\n"
     ]
    },
    {
     "name": "stderr",
     "output_type": "stream",
     "text": [
      "\r",
      " 32%|███▎      | 26/80 [06:58<10:42, 11.90s/it]"
     ]
    },
    {
     "name": "stdout",
     "output_type": "stream",
     "text": [
      "torch.Size([10, 3, 256, 256])\n",
      "torch.Size([10, 128, 64, 64])\n",
      "torch.Size([10, 5, 60, 60])\n",
      "torch.Size([10, 5, 256, 256])\n"
     ]
    },
    {
     "name": "stderr",
     "output_type": "stream",
     "text": [
      "\r",
      " 34%|███▍      | 27/80 [07:11<10:48, 12.23s/it]"
     ]
    },
    {
     "name": "stdout",
     "output_type": "stream",
     "text": [
      "torch.Size([10, 3, 256, 256])\n",
      "torch.Size([10, 128, 64, 64])\n",
      "torch.Size([10, 5, 60, 60])\n",
      "torch.Size([10, 5, 256, 256])\n"
     ]
    },
    {
     "name": "stderr",
     "output_type": "stream",
     "text": [
      "\r",
      " 35%|███▌      | 28/80 [07:26<11:13, 12.94s/it]"
     ]
    },
    {
     "name": "stdout",
     "output_type": "stream",
     "text": [
      "torch.Size([10, 3, 256, 256])\n",
      "torch.Size([10, 128, 64, 64])\n",
      "torch.Size([10, 5, 60, 60])\n",
      "torch.Size([10, 5, 256, 256])\n"
     ]
    },
    {
     "name": "stderr",
     "output_type": "stream",
     "text": [
      "\r",
      " 36%|███▋      | 29/80 [07:38<10:42, 12.59s/it]"
     ]
    },
    {
     "name": "stdout",
     "output_type": "stream",
     "text": [
      "torch.Size([10, 3, 256, 256])\n",
      "torch.Size([10, 128, 64, 64])\n",
      "torch.Size([10, 5, 60, 60])\n",
      "torch.Size([10, 5, 256, 256])\n"
     ]
    },
    {
     "name": "stderr",
     "output_type": "stream",
     "text": [
      "\r",
      " 38%|███▊      | 30/80 [07:49<10:04, 12.08s/it]"
     ]
    },
    {
     "name": "stdout",
     "output_type": "stream",
     "text": [
      "torch.Size([10, 3, 256, 256])\n",
      "torch.Size([10, 128, 64, 64])\n",
      "torch.Size([10, 5, 60, 60])\n",
      "torch.Size([10, 5, 256, 256])\n"
     ]
    },
    {
     "name": "stderr",
     "output_type": "stream",
     "text": [
      "\r",
      " 39%|███▉      | 31/80 [08:00<09:43, 11.91s/it]"
     ]
    },
    {
     "name": "stdout",
     "output_type": "stream",
     "text": [
      "torch.Size([10, 3, 256, 256])\n",
      "torch.Size([10, 128, 64, 64])\n",
      "torch.Size([10, 5, 60, 60])\n",
      "torch.Size([10, 5, 256, 256])\n"
     ]
    },
    {
     "name": "stderr",
     "output_type": "stream",
     "text": [
      "\r",
      " 40%|████      | 32/80 [08:12<09:23, 11.73s/it]"
     ]
    },
    {
     "name": "stdout",
     "output_type": "stream",
     "text": [
      "torch.Size([10, 3, 256, 256])\n",
      "torch.Size([10, 128, 64, 64])\n",
      "torch.Size([10, 5, 60, 60])\n",
      "torch.Size([10, 5, 256, 256])\n"
     ]
    },
    {
     "name": "stderr",
     "output_type": "stream",
     "text": [
      "\r",
      " 41%|████▏     | 33/80 [08:23<09:06, 11.62s/it]"
     ]
    },
    {
     "name": "stdout",
     "output_type": "stream",
     "text": [
      "torch.Size([10, 3, 256, 256])\n",
      "torch.Size([10, 128, 64, 64])\n",
      "torch.Size([10, 5, 60, 60])\n",
      "torch.Size([10, 5, 256, 256])\n"
     ]
    },
    {
     "name": "stderr",
     "output_type": "stream",
     "text": [
      "\r",
      " 42%|████▎     | 34/80 [08:48<11:58, 15.62s/it]"
     ]
    },
    {
     "name": "stdout",
     "output_type": "stream",
     "text": [
      "torch.Size([10, 3, 256, 256])\n",
      "torch.Size([10, 128, 64, 64])\n",
      "torch.Size([10, 5, 60, 60])\n",
      "torch.Size([10, 5, 256, 256])\n"
     ]
    },
    {
     "name": "stderr",
     "output_type": "stream",
     "text": [
      "\r",
      " 44%|████▍     | 35/80 [09:11<13:21, 17.81s/it]"
     ]
    },
    {
     "name": "stdout",
     "output_type": "stream",
     "text": [
      "torch.Size([10, 3, 256, 256])\n",
      "torch.Size([10, 128, 64, 64])\n",
      "torch.Size([10, 5, 60, 60])\n",
      "torch.Size([10, 5, 256, 256])\n"
     ]
    },
    {
     "name": "stderr",
     "output_type": "stream",
     "text": [
      "\r",
      " 45%|████▌     | 36/80 [09:29<13:02, 17.79s/it]"
     ]
    },
    {
     "name": "stdout",
     "output_type": "stream",
     "text": [
      "torch.Size([10, 3, 256, 256])\n",
      "torch.Size([10, 128, 64, 64])\n",
      "torch.Size([10, 5, 60, 60])\n",
      "torch.Size([10, 5, 256, 256])\n"
     ]
    },
    {
     "name": "stderr",
     "output_type": "stream",
     "text": [
      "\r",
      " 46%|████▋     | 37/80 [09:51<13:43, 19.15s/it]"
     ]
    },
    {
     "name": "stdout",
     "output_type": "stream",
     "text": [
      "torch.Size([10, 3, 256, 256])\n",
      "torch.Size([10, 128, 64, 64])\n",
      "torch.Size([10, 5, 60, 60])\n",
      "torch.Size([10, 5, 256, 256])\n"
     ]
    },
    {
     "name": "stderr",
     "output_type": "stream",
     "text": [
      "\r",
      " 48%|████▊     | 38/80 [10:32<17:58, 25.67s/it]"
     ]
    },
    {
     "name": "stdout",
     "output_type": "stream",
     "text": [
      "torch.Size([10, 3, 256, 256])\n",
      "torch.Size([10, 128, 64, 64])\n",
      "torch.Size([10, 5, 60, 60])\n",
      "torch.Size([10, 5, 256, 256])\n"
     ]
    },
    {
     "name": "stderr",
     "output_type": "stream",
     "text": [
      "\r",
      " 49%|████▉     | 39/80 [11:04<18:55, 27.68s/it]"
     ]
    },
    {
     "name": "stdout",
     "output_type": "stream",
     "text": [
      "torch.Size([10, 3, 256, 256])\n",
      "torch.Size([10, 128, 64, 64])\n",
      "torch.Size([10, 5, 60, 60])\n",
      "torch.Size([10, 5, 256, 256])\n"
     ]
    },
    {
     "name": "stderr",
     "output_type": "stream",
     "text": [
      "\r",
      " 50%|█████     | 40/80 [11:36<19:22, 29.06s/it]"
     ]
    },
    {
     "name": "stdout",
     "output_type": "stream",
     "text": [
      "torch.Size([10, 3, 256, 256])\n",
      "torch.Size([10, 128, 64, 64])\n",
      "torch.Size([10, 5, 60, 60])\n",
      "torch.Size([10, 5, 256, 256])\n"
     ]
    },
    {
     "name": "stderr",
     "output_type": "stream",
     "text": [
      "\r",
      " 51%|█████▏    | 41/80 [11:57<17:19, 26.66s/it]"
     ]
    },
    {
     "name": "stdout",
     "output_type": "stream",
     "text": [
      "torch.Size([10, 3, 256, 256])\n",
      "torch.Size([10, 128, 64, 64])\n",
      "torch.Size([10, 5, 60, 60])\n",
      "torch.Size([10, 5, 256, 256])\n"
     ]
    },
    {
     "name": "stderr",
     "output_type": "stream",
     "text": [
      "\r",
      " 52%|█████▎    | 42/80 [12:20<16:04, 25.37s/it]"
     ]
    },
    {
     "name": "stdout",
     "output_type": "stream",
     "text": [
      "torch.Size([10, 3, 256, 256])\n",
      "torch.Size([10, 128, 64, 64])\n",
      "torch.Size([10, 5, 60, 60])\n",
      "torch.Size([10, 5, 256, 256])\n"
     ]
    },
    {
     "name": "stderr",
     "output_type": "stream",
     "text": [
      "\r",
      " 54%|█████▍    | 43/80 [12:47<16:02, 26.01s/it]"
     ]
    },
    {
     "name": "stdout",
     "output_type": "stream",
     "text": [
      "torch.Size([10, 3, 256, 256])\n",
      "torch.Size([10, 128, 64, 64])\n",
      "torch.Size([10, 5, 60, 60])\n",
      "torch.Size([10, 5, 256, 256])\n"
     ]
    },
    {
     "name": "stderr",
     "output_type": "stream",
     "text": [
      "\r",
      " 55%|█████▌    | 44/80 [13:13<15:36, 26.02s/it]"
     ]
    },
    {
     "name": "stdout",
     "output_type": "stream",
     "text": [
      "torch.Size([10, 3, 256, 256])\n",
      "torch.Size([10, 128, 64, 64])\n",
      "torch.Size([10, 5, 60, 60])\n",
      "torch.Size([10, 5, 256, 256])\n"
     ]
    },
    {
     "name": "stderr",
     "output_type": "stream",
     "text": [
      "\r",
      " 56%|█████▋    | 45/80 [13:30<13:32, 23.20s/it]"
     ]
    },
    {
     "name": "stdout",
     "output_type": "stream",
     "text": [
      "torch.Size([10, 3, 256, 256])\n",
      "torch.Size([10, 128, 64, 64])\n",
      "torch.Size([10, 5, 60, 60])\n",
      "torch.Size([10, 5, 256, 256])\n"
     ]
    },
    {
     "name": "stderr",
     "output_type": "stream",
     "text": [
      "\r",
      " 57%|█████▊    | 46/80 [13:49<12:25, 21.92s/it]"
     ]
    },
    {
     "name": "stdout",
     "output_type": "stream",
     "text": [
      "torch.Size([10, 3, 256, 256])\n",
      "torch.Size([10, 128, 64, 64])\n",
      "torch.Size([10, 5, 60, 60])\n",
      "torch.Size([10, 5, 256, 256])\n"
     ]
    },
    {
     "name": "stderr",
     "output_type": "stream",
     "text": [
      "\r",
      " 59%|█████▉    | 47/80 [14:05<11:08, 20.26s/it]"
     ]
    },
    {
     "name": "stdout",
     "output_type": "stream",
     "text": [
      "torch.Size([10, 3, 256, 256])\n",
      "torch.Size([10, 128, 64, 64])\n",
      "torch.Size([10, 5, 60, 60])\n",
      "torch.Size([10, 5, 256, 256])\n"
     ]
    },
    {
     "name": "stderr",
     "output_type": "stream",
     "text": [
      "\r",
      " 60%|██████    | 48/80 [14:24<10:29, 19.68s/it]"
     ]
    },
    {
     "name": "stdout",
     "output_type": "stream",
     "text": [
      "torch.Size([10, 3, 256, 256])\n",
      "torch.Size([10, 128, 64, 64])\n",
      "torch.Size([10, 5, 60, 60])\n",
      "torch.Size([10, 5, 256, 256])\n"
     ]
    },
    {
     "name": "stderr",
     "output_type": "stream",
     "text": [
      "\r",
      " 61%|██████▏   | 49/80 [14:40<09:42, 18.80s/it]"
     ]
    },
    {
     "name": "stdout",
     "output_type": "stream",
     "text": [
      "torch.Size([10, 3, 256, 256])\n",
      "torch.Size([10, 128, 64, 64])\n",
      "torch.Size([10, 5, 60, 60])\n",
      "torch.Size([10, 5, 256, 256])\n"
     ]
    },
    {
     "name": "stderr",
     "output_type": "stream",
     "text": [
      "\r",
      " 62%|██████▎   | 50/80 [14:56<08:56, 17.87s/it]"
     ]
    },
    {
     "name": "stdout",
     "output_type": "stream",
     "text": [
      "torch.Size([10, 3, 256, 256])\n",
      "torch.Size([10, 128, 64, 64])\n",
      "torch.Size([10, 5, 60, 60])\n",
      "torch.Size([10, 5, 256, 256])\n"
     ]
    },
    {
     "name": "stderr",
     "output_type": "stream",
     "text": [
      "\r",
      " 64%|██████▍   | 51/80 [15:10<08:03, 16.66s/it]"
     ]
    },
    {
     "name": "stdout",
     "output_type": "stream",
     "text": [
      "torch.Size([10, 3, 256, 256])\n",
      "torch.Size([10, 128, 64, 64])\n",
      "torch.Size([10, 5, 60, 60])\n",
      "torch.Size([10, 5, 256, 256])\n"
     ]
    },
    {
     "name": "stderr",
     "output_type": "stream",
     "text": [
      "\r",
      " 65%|██████▌   | 52/80 [15:24<07:23, 15.84s/it]"
     ]
    },
    {
     "name": "stdout",
     "output_type": "stream",
     "text": [
      "torch.Size([10, 3, 256, 256])\n",
      "torch.Size([10, 128, 64, 64])\n",
      "torch.Size([10, 5, 60, 60])\n",
      "torch.Size([10, 5, 256, 256])\n"
     ]
    },
    {
     "name": "stderr",
     "output_type": "stream",
     "text": [
      "\r",
      " 66%|██████▋   | 53/80 [15:41<07:21, 16.36s/it]"
     ]
    },
    {
     "name": "stdout",
     "output_type": "stream",
     "text": [
      "torch.Size([10, 3, 256, 256])\n",
      "torch.Size([10, 128, 64, 64])\n",
      "torch.Size([10, 5, 60, 60])\n",
      "torch.Size([10, 5, 256, 256])\n"
     ]
    },
    {
     "name": "stderr",
     "output_type": "stream",
     "text": [
      "\r",
      " 68%|██████▊   | 54/80 [15:56<06:48, 15.70s/it]"
     ]
    },
    {
     "name": "stdout",
     "output_type": "stream",
     "text": [
      "torch.Size([10, 3, 256, 256])\n",
      "torch.Size([10, 128, 64, 64])\n",
      "torch.Size([10, 5, 60, 60])\n",
      "torch.Size([10, 5, 256, 256])\n"
     ]
    },
    {
     "name": "stderr",
     "output_type": "stream",
     "text": [
      "\r",
      " 69%|██████▉   | 55/80 [16:10<06:26, 15.46s/it]"
     ]
    },
    {
     "name": "stdout",
     "output_type": "stream",
     "text": [
      "torch.Size([10, 3, 256, 256])\n",
      "torch.Size([10, 128, 64, 64])\n",
      "torch.Size([10, 5, 60, 60])\n",
      "torch.Size([10, 5, 256, 256])\n"
     ]
    }
   ],
   "source": [
    "train(train_loader, net, criterion, optimizer, device, 3) #why isnt this printing loss\n"
   ]
  },
  {
   "cell_type": "code",
   "execution_count": null,
   "metadata": {},
   "outputs": [],
   "source": []
  }
 ],
 "metadata": {
  "kernelspec": {
   "display_name": "Python 3",
   "language": "python",
   "name": "python3"
  },
  "language_info": {
   "codemirror_mode": {
    "name": "ipython",
    "version": 3
   },
   "file_extension": ".py",
   "mimetype": "text/x-python",
   "name": "python",
   "nbconvert_exporter": "python",
   "pygments_lexer": "ipython3",
   "version": "3.7.4"
  },
  "latex_envs": {
   "LaTeX_envs_menu_present": true,
   "autoclose": false,
   "autocomplete": true,
   "bibliofile": "biblio.bib",
   "cite_by": "apalike",
   "current_citInitial": 1,
   "eqLabelWithNumbers": true,
   "eqNumInitial": 1,
   "hotkeys": {
    "equation": "Ctrl-E",
    "itemize": "Ctrl-I"
   },
   "labels_anchors": false,
   "latex_user_defs": false,
   "report_style_numbering": false,
   "user_envs_cfg": false
  }
 },
 "nbformat": 4,
 "nbformat_minor": 2
}
